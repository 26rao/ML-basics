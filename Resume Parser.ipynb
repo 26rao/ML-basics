{
 "cells": [
  {
   "cell_type": "code",
   "execution_count": 17,
   "metadata": {},
   "outputs": [],
   "source": [
    "#NLP-Project Resume Parser\n",
    "import pandas as pd \n",
    "import spacy\n",
    "import pdfplumber\n",
    "import re"
   ]
  },
  {
   "cell_type": "code",
   "execution_count": 20,
   "metadata": {},
   "outputs": [],
   "source": [
    "from docx import Document\n",
    "def extract_doc(path):\n",
    "    doc_data = Document(path)\n",
    "    text = '\\n'.join(p.text for p in doc_data.paragraphs)\n",
    "    return text"
   ]
  },
  {
   "cell_type": "code",
   "execution_count": 24,
   "metadata": {},
   "outputs": [],
   "source": [
    "#PLAIN TEXTS\n",
    "def extract_textData(path):\n",
    "    with open(path,'r',encoding='utf-8')as f:\n",
    "        text = f.read()\n",
    "    return text"
   ]
  },
  {
   "cell_type": "code",
   "execution_count": 22,
   "metadata": {},
   "outputs": [],
   "source": [
    "#HTML\n",
    "from bs4 import BeautifulSoup\n",
    "def extract_html(form):\n",
    "    soup = BeautifulSoup(form,'lxml')\n",
    "    text = soup.get_text()\n",
    "    return text"
   ]
  },
  {
   "cell_type": "code",
   "execution_count": 3,
   "metadata": {},
   "outputs": [],
   "source": [
    "def extract_pdfs(pdf):\n",
    "    with pdfplumber.open(pdf) as p:\n",
    "        text = ''.join(page.extract_text() for page in p.pages)\n",
    "    return text"
   ]
  },
  {
   "cell_type": "code",
   "execution_count": 25,
   "metadata": {},
   "outputs": [],
   "source": [
    "#Call to extarct a particular filetype\n",
    "import os\n",
    "def extract_text(filepath):\n",
    "    ext = os.path.splitext(filepath)[1].lower() #Extracts extensions\n",
    "    if ext == '.pdf':\n",
    "        return extract_pdfs(filepath)\n",
    "    elif ext == '.html':\n",
    "        return extract_html(filepath)\n",
    "    elif ext == '.docx':\n",
    "        return extract_doc(filepath)\n",
    "    elif ext == '.txt':\n",
    "        return extract_textData(filepath)\n",
    "    else:\n",
    "        raise ValueError(\"Invalid FileType\")"
   ]
  },
  {
   "cell_type": "code",
   "execution_count": 5,
   "metadata": {},
   "outputs": [],
   "source": [
    "#Extract Key Informations\n",
    "#phone No.\n",
    "def extract_phone(data):\n",
    "    match = re.search(r'\\bd{10}\\b',data)\n",
    "    if match:\n",
    "        return match.group(0)\n",
    "    else:\n",
    "        return None"
   ]
  },
  {
   "cell_type": "code",
   "execution_count": 6,
   "metadata": {},
   "outputs": [],
   "source": [
    "#Email\n",
    "def extract_email(text):\n",
    "    match = re.search(r'\\b[A-Za-z0-9._%+-]+@[A-Za-z0-9._]+\\.[A-Z|a-z]{2,}\\b',text)\n",
    "    return match.group(0) if match else  None"
   ]
  },
  {
   "cell_type": "code",
   "execution_count": 9,
   "metadata": {},
   "outputs": [],
   "source": [
    "#Extract Skills\n",
    "skills_list = ['Python','Java','C++','SQL','Machine Learning','Deep learning','Web Development','App Development']\n",
    "def extract_skills(data,skills_list):\n",
    "    extracted_skills = [skill for skill in skills_list if skill.lower() in data.lower()]\n",
    "    return extracted_skills"
   ]
  },
  {
   "cell_type": "code",
   "execution_count": 10,
   "metadata": {},
   "outputs": [],
   "source": [
    "#Education\n",
    "key_words = ['Bachelor','B.Sc','Master','M.Sc','PhD','Diploma']\n",
    "def extract_eductaion(data,key_words):\n",
    "    extracted_details = [line for line in data.split('\\n') if any(keyword in line for keyword in key_words)]\n",
    "    return extracted_details"
   ]
  },
  {
   "cell_type": "code",
   "execution_count": 11,
   "metadata": {},
   "outputs": [],
   "source": [
    "#Work Experience\n",
    "Work = ['Intern','Experienced','Employment','Part-time','Full-Time']\n",
    "def extract_Work(data):\n",
    "    work_experience = [line for line in data.split('\\n') if any(word in line for word in Work)]\n",
    "    return work_experience"
   ]
  },
  {
   "cell_type": "code",
   "execution_count": 12,
   "metadata": {},
   "outputs": [],
   "source": [
    "#Name Extraction\n",
    "import spacy\n",
    "nlp = spacy.load('en_core_web_sm')"
   ]
  },
  {
   "cell_type": "code",
   "execution_count": 13,
   "metadata": {},
   "outputs": [],
   "source": [
    "def name_extrcation(data):\n",
    "    doc = nlp(data)\n",
    "    for ent in doc.ents:\n",
    "        if ent.label_ == 'PERSON':\n",
    "            return ent.text\n",
    "    return None"
   ]
  },
  {
   "cell_type": "code",
   "execution_count": 26,
   "metadata": {},
   "outputs": [],
   "source": [
    "#Store the data\n",
    "def parse_resume(file_path):\n",
    "    data = extract_text(file_path)\n",
    "    parsed_data = {\n",
    "        \"Name\": name_extrcation(data),\n",
    "        \"Phone No.\":extract_phone(data),\n",
    "        \"Email\": extract_email(data),\n",
    "        \"Education\": extract_eductaion(data),\n",
    "        \"Skills\":extract_skills(data),\n",
    "        \"Work Experience\":extract_Work(data),\n",
    "    }\n",
    "    return parsed_data"
   ]
  },
  {
   "cell_type": "code",
   "execution_count": 16,
   "metadata": {},
   "outputs": [],
   "source": [
    "def save_to_csv(details,output_path):\n",
    "    df = pd.DataFrame([details])\n",
    "    df.to_csv(output_path,index = False)"
   ]
  },
  {
   "cell_type": "code",
   "execution_count": null,
   "metadata": {},
   "outputs": [],
   "source": [
    "#Test\n",
    "#path = 'sample.pdf' #Enter the filepath\n",
    "#ouput_path = 'file.csv' #Location to store csv file'\n",
    "\n",
    "#resource = parse_resume(path)\n",
    "#save_to_csv(resource,ouput_path)\n",
    "#print(\"Resume saved successssfully\")\n"
   ]
  }
 ],
 "metadata": {
  "kernelspec": {
   "display_name": "Python 3",
   "language": "python",
   "name": "python3"
  },
  "language_info": {
   "codemirror_mode": {
    "name": "ipython",
    "version": 3
   },
   "file_extension": ".py",
   "mimetype": "text/x-python",
   "name": "python",
   "nbconvert_exporter": "python",
   "pygments_lexer": "ipython3",
   "version": "3.12.3"
  }
 },
 "nbformat": 4,
 "nbformat_minor": 2
}
